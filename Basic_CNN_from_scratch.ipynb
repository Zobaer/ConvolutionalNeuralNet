{
  "nbformat": 4,
  "nbformat_minor": 0,
  "metadata": {
    "colab": {
      "name": "Assignment3_Q3_Zobaer.ipynb",
      "provenance": []
    },
    "kernelspec": {
      "name": "python3",
      "display_name": "Python 3"
    },
    "language_info": {
      "name": "python"
    }
  },
  "cells": [
    {
      "cell_type": "code",
      "metadata": {
        "colab": {
          "base_uri": "https://localhost:8080/"
        },
        "id": "DyAduT0U7cVU",
        "outputId": "2c8b3739-3134-489f-a9b0-2c53775e8eab"
      },
      "source": [
        "import numpy as np\n",
        "\n",
        "#Input matrix\n",
        "X = np.array([[7, 5, 0, 0, 3, 2],\n",
        "             [6, 4, 5, 1, 4, 8],\n",
        "             [9, 0, 2, 2, 5, 4],\n",
        "             [6, 3, 4, 7, 9, 8],\n",
        "             [5, 7, 5, 6, 9, 0],\n",
        "             [7, 9, 0, 8, 2, 3]])\n",
        "\n",
        "#Filter matrix\n",
        "f = np.array([[1, 0, -1],\n",
        "             [2, 0, -2],\n",
        "             [1, 0, -1]])\n",
        "\n",
        "W1 = X.shape[0]  #width f input\n",
        "H1 = X.shape[1]  #height of input\n",
        "C = 1            #depth of input\n",
        "P = 0            #padding size\n",
        "F = f.shape[0]   #Filter size (for square filter)\n",
        "S = 1            #stride\n",
        "K = 1            #number of filters (also the depth of output activation map)\n",
        "\n",
        "print(\"Size of the input: \",X.shape)\n",
        "print(\"Size of the kernel: \",f.shape)\n",
        "print(\"Number of parameters (considering the bias): \",F**2*C + 1)\n",
        "\n",
        "#Output dimension calculation\n",
        "W2 = (W1-F+2*P)/S + 1   #width of the output activation map\n",
        "H2 = (H1-F+2*P)/S + 1   #height of the output activation map\n",
        "#depth of output activation map will be K = 1\n",
        "\n",
        "print(\"\\nWidth of the output activation map: \",W2)\n",
        "print(\"Height of the output activation map: \",H2)"
      ],
      "execution_count": null,
      "outputs": [
        {
          "output_type": "stream",
          "name": "stdout",
          "text": [
            "Size of the input:  (6, 6)\n",
            "Size of the kernel:  (3, 3)\n",
            "Number of parameters (considering the bias):  10\n",
            "\n",
            "Width of the output activation map:  4.0\n",
            "Height of the output activation map:  4.0\n"
          ]
        }
      ]
    },
    {
      "cell_type": "code",
      "metadata": {
        "colab": {
          "base_uri": "https://localhost:8080/"
        },
        "id": "DDdEMtaQUYWT",
        "outputId": "273b3cdf-ec6f-4736-a412-9da33ee969b9"
      },
      "source": [
        "#Create the output activation map\n",
        "W2 = int(W2)\n",
        "H2 = int(H2)\n",
        "A = np.zeros([H2,W2])\n",
        "for r in range(H2):\n",
        "  for c in range(W2):\n",
        "    A[r,c] = np.sum(f*X[r:r+F,c:c+F])\n",
        "print(\"\\nOutput activation map:\\n\",A)"
      ],
      "execution_count": null,
      "outputs": [
        {
          "output_type": "stream",
          "name": "stdout",
          "text": [
            "\n",
            "Output activation map:\n",
            " [[ 16.   9.  -4. -18.]\n",
            " [ 17.  -5. -10. -12.]\n",
            " [ 11.  -9. -17.   2.]\n",
            " [  9.  -1. -15.  16.]]\n"
          ]
        }
      ]
    },
    {
      "cell_type": "code",
      "metadata": {
        "colab": {
          "base_uri": "https://localhost:8080/"
        },
        "id": "dxX4uaTOZHXx",
        "outputId": "53637c10-a5a3-40c7-b723-39d63fe57bd8"
      },
      "source": [
        "#Apply maxpooling\n",
        "m = 2 #2 by 2 maxpooling\n",
        "H3 = int(H2/m)\n",
        "W3 = int(W2/m)\n",
        "M = np.zeros([H3,W3])\n",
        "for r in range(H3):\n",
        "  for c in range(W3):\n",
        "    M[r,c] = np.max(A[m*r:2*r+m,m*c:m*c+m])\n",
        "print(\"\\nOutput after maxpooling:\\n\",M)"
      ],
      "execution_count": null,
      "outputs": [
        {
          "output_type": "stream",
          "name": "stdout",
          "text": [
            "\n",
            "Output after maxpooling:\n",
            " [[17. -4.]\n",
            " [11. 16.]]\n"
          ]
        }
      ]
    }
  ]
}